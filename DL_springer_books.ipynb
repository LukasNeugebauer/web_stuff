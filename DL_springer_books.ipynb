{
 "cells": [
  {
   "cell_type": "markdown",
   "metadata": {},
   "source": [
    "# Download Springer books\n",
    "\n",
    "Springer has made a lot of books free to download. Someone collected the books that are relevant to the wide field of Machine Learning in a Medium blogpost ('https://towardsdatascience.com/springer-has-released-65-machine-learning-and-data-books-for-free-961f8181f189').\n",
    "I'm too lazy to download them manually but would like to save them just in case. So here's how you automatically collect all the links and download the books."
   ]
  },
  {
   "cell_type": "code",
   "execution_count": 8,
   "metadata": {},
   "outputs": [],
   "source": [
    "import requests\n",
    "from bs4 import BeautifulSoup\n",
    "import re\n",
    "import os"
   ]
  },
  {
   "cell_type": "markdown",
   "metadata": {},
   "source": [
    "## Collect all the springer links from the blog post."
   ]
  },
  {
   "cell_type": "code",
   "execution_count": 2,
   "metadata": {},
   "outputs": [],
   "source": [
    "def _collect_book_links(url):\n",
    "    raw = requests.get(url).text\n",
    "    bs  = BeautifulSoup(raw, 'html.parser')\n",
    "    tags = bs.findAll('a', attrs = {'href': re.compile('link.springer.com') })\n",
    "    return [x.get('href') for x in tags]"
   ]
  },
  {
   "cell_type": "markdown",
   "metadata": {},
   "source": [
    "## From each link to the springer website collect the name and the download link"
   ]
  },
  {
   "cell_type": "code",
   "execution_count": 3,
   "metadata": {},
   "outputs": [],
   "source": [
    "def _get_download_link(req, domain = 'https://link.springer.com'):\n",
    "    b = BeautifulSoup(req.text, 'html.parser')\n",
    "    tag = b.findAll('a', attrs = {'title': re.compile('Download')})[0]\n",
    "    return domain + tag.get('href')"
   ]
  },
  {
   "cell_type": "code",
   "execution_count": 4,
   "metadata": {},
   "outputs": [],
   "source": [
    "def _get_title(req):\n",
    "    b = BeautifulSoup(req.text, 'html.parser')\n",
    "    tags = b.findAll('h1')\n",
    "    return tags[0].text"
   ]
  },
  {
   "cell_type": "markdown",
   "metadata": {},
   "source": [
    "## Actually download the book using `requests` and save to pdf"
   ]
  },
  {
   "cell_type": "code",
   "execution_count": 5,
   "metadata": {},
   "outputs": [],
   "source": [
    "def _download_book(\n",
    "    link, \n",
    "    savepath, \n",
    "    verbose = True\n",
    "):\n",
    "    req = requests.get(link)\n",
    "    dl_link = _get_download_link(req)\n",
    "    title   = _get_title(req)\n",
    "    name = title.replace(' ', '_') + '.pdf'\n",
    "    if verbose:\n",
    "        print(f'Downloading {title}...')\n",
    "    dl = requests.get(dl_link)\n",
    "    with open(os.path.join(savepath, name), 'wb') as f:\n",
    "        f.write(dl.content)"
   ]
  },
  {
   "cell_type": "markdown",
   "metadata": {},
   "source": [
    "## Loop over the links and download each one"
   ]
  },
  {
   "cell_type": "code",
   "execution_count": 6,
   "metadata": {},
   "outputs": [],
   "source": [
    "def download_all_books(url, savepath, verbose):\n",
    "    links = _collect_book_links(url)\n",
    "    for l in links:\n",
    "        _download_book(l, savepath, verbose)\n",
    "    print('Finished downloading all books.')"
   ]
  },
  {
   "cell_type": "code",
   "execution_count": null,
   "metadata": {},
   "outputs": [
    {
     "name": "stdout",
     "output_type": "stream",
     "text": [
      "Downloading The Elements of Statistical Learning...\n"
     ]
    }
   ],
   "source": [
    "url = 'https://towardsdatascience.com/springer-has-released-65-machine-learning-and-data-books-for-free-961f8181f189'\n",
    "savepath = '/home/lukas/Documents/textbooks'\n",
    "verbose = True\n",
    "\n",
    "download_all_books(url, savepath, verbose)"
   ]
  },
  {
   "cell_type": "markdown",
   "metadata": {},
   "source": [
    "## Voila, that's it"
   ]
  }
 ],
 "metadata": {
  "kernelspec": {
   "display_name": "Python 3",
   "language": "python",
   "name": "python3"
  },
  "language_info": {
   "codemirror_mode": {
    "name": "ipython",
    "version": 3
   },
   "file_extension": ".py",
   "mimetype": "text/x-python",
   "name": "python",
   "nbconvert_exporter": "python",
   "pygments_lexer": "ipython3",
   "version": "3.8.3"
  }
 },
 "nbformat": 4,
 "nbformat_minor": 4
}

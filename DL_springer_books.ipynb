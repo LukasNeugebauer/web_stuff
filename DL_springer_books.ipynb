{
 "cells": [
  {
   "cell_type": "markdown",
   "metadata": {},
   "source": [
    "# Download Springer books\n",
    "\n",
    "Springer has made a lot of books free to download. Someone collected the books that are relevant to the wide field of Machine Learning in a Medium blogpost ('https://towardsdatascience.com/springer-has-released-65-machine-learning-and-data-books-for-free-961f8181f189').\n",
    "I'm too lazy to download them manually but would like to save them just in case. So here's how you automatically collect all the links and download the books."
   ]
  },
  {
   "cell_type": "code",
   "execution_count": 8,
   "metadata": {},
   "outputs": [],
   "source": [
    "import requests\n",
    "from bs4 import BeautifulSoup\n",
    "import re\n",
    "import os"
   ]
  },
  {
   "cell_type": "markdown",
   "metadata": {},
   "source": [
    "## Collect all the springer links from the blog post."
   ]
  },
  {
   "cell_type": "code",
   "execution_count": 2,
   "metadata": {},
   "outputs": [],
   "source": [
    "def _collect_book_links(url):\n",
    "    raw = requests.get(url).text\n",
    "    bs  = BeautifulSoup(raw, 'html.parser')\n",
    "    tags = bs.findAll('a', attrs = {'href': re.compile('link.springer.com') })\n",
    "    return [x.get('href') for x in tags]"
   ]
  },
  {
   "cell_type": "markdown",
   "metadata": {},
   "source": [
    "## From each link to the springer website collect the name and the download link"
   ]
  },
  {
   "cell_type": "code",
   "execution_count": 3,
   "metadata": {},
   "outputs": [],
   "source": [
    "def _get_download_link(req, domain = 'https://link.springer.com'):\n",
    "    b = BeautifulSoup(req.text, 'html.parser')\n",
    "    tag = b.findAll('a', attrs = {'title': re.compile('Download')})[0]\n",
    "    return domain + tag.get('href')"
   ]
  },
  {
   "cell_type": "code",
   "execution_count": 4,
   "metadata": {},
   "outputs": [],
   "source": [
    "def _get_title(req):\n",
    "    b = BeautifulSoup(req.text, 'html.parser')\n",
    "    tags = b.findAll('h1')\n",
    "    return tags[0].text"
   ]
  },
  {
   "cell_type": "markdown",
   "metadata": {},
   "source": [
    "## Actually download the book using `requests` and save to pdf"
   ]
  },
  {
   "cell_type": "code",
   "execution_count": 18,
   "metadata": {},
   "outputs": [],
   "source": [
    "def _download_book(\n",
    "    link, \n",
    "    savepath, \n",
    "    verbose = True\n",
    "):\n",
    "    req = requests.get(link)\n",
    "    try:\n",
    "        dl_link = _get_download_link(req)\n",
    "    except:\n",
    "        print('Smth went wrong.')\n",
    "        return\n",
    "    title   = _get_title(req)\n",
    "    name = title.replace(' ', '_') + '.pdf'\n",
    "    if os.path.exists(os.path.join(savepath, name)):\n",
    "        print(f'{title} already downloaded.')\n",
    "        return\n",
    "    if verbose:\n",
    "        print(f'Downloading {title}...')\n",
    "    dl = requests.get(dl_link)\n",
    "    with open(os.path.join(savepath, name), 'wb') as f:\n",
    "        f.write(dl.content)"
   ]
  },
  {
   "cell_type": "markdown",
   "metadata": {},
   "source": [
    "## Loop over the links and download each one"
   ]
  },
  {
   "cell_type": "code",
   "execution_count": 19,
   "metadata": {},
   "outputs": [],
   "source": [
    "def download_all_books(url, savepath, verbose):\n",
    "    links = _collect_book_links(url)\n",
    "    for l in links:\n",
    "        _download_book(l, savepath, verbose)\n",
    "    print('Finished downloading all books.')"
   ]
  },
  {
   "cell_type": "code",
   "execution_count": null,
   "metadata": {},
   "outputs": [
    {
     "name": "stdout",
     "output_type": "stream",
     "text": [
      "The Elements of Statistical Learning already downloaded.\n",
      "Introductory Time Series with R already downloaded.\n",
      "A Beginner’s Guide to R already downloaded.\n",
      "Introduction to Evolutionary Computing already downloaded.\n",
      "Data Analysis already downloaded.\n",
      "Linear and Nonlinear Programming already downloaded.\n",
      "Introduction to Partial Differential Equations already downloaded.\n",
      "Fundamentals of Robotic Mechanical Systems already downloaded.\n",
      "Data Structures and Algorithms with Python already downloaded.\n",
      "Introduction to Partial Differential Equations already downloaded.\n",
      "Methods of Mathematical Modelling already downloaded.\n",
      "LaTeX in 24 Hours already downloaded.\n",
      "Introduction to Statistics and Data Analysis  already downloaded.\n",
      "Principles of Data Mining already downloaded.\n",
      "Computer Vision already downloaded.\n",
      "Data Mining already downloaded.\n",
      "Computational Geometry already downloaded.\n",
      "Robotics, Vision and Control already downloaded.\n",
      "Statistical Analysis and Data Display already downloaded.\n",
      "Statistics and Data Analysis for Financial Engineering already downloaded.\n",
      "Stochastic Processes and Calculus already downloaded.\n",
      "Statistical Analysis of Clinical Data on a Pocket Calculator already downloaded.\n",
      "Clinical Data Analysis on a Pocket Calculator already downloaded.\n",
      "The Data Science Design Manual already downloaded.\n",
      "An Introduction to Machine Learning already downloaded.\n",
      "Guide to Discrete Mathematics already downloaded.\n",
      "Introduction to Time Series and Forecasting already downloaded.\n",
      "Multivariate Calculus and Geometry already downloaded.\n",
      "Statistics and Analysis of Scientific Data already downloaded.\n",
      "Modelling Computing Systems already downloaded.\n",
      "Search Methodologies already downloaded.\n",
      "Linear Algebra Done Right already downloaded.\n",
      "Linear Algebra already downloaded.\n",
      "Smth went wrong.\n",
      "Downloading Understanding Analysis...\n",
      "Downloading Linear Programming...\n",
      "Downloading Understanding Statistics Using R...\n",
      "Downloading An Introduction to Statistical Learning...\n",
      "Downloading Statistical Learning from a Regression Perspective...\n",
      "Downloading Applied Partial Differential Equations...\n",
      "Downloading Robotics...\n",
      "Downloading Regression Modeling Strategies...\n",
      "Downloading A Modern Introduction to Probability and Statistics...\n",
      "Downloading The Python Workbook...\n",
      "Downloading Machine Learning in Medicine - a Complete Overview...\n"
     ]
    }
   ],
   "source": [
    "url = 'https://towardsdatascience.com/springer-has-released-65-machine-learning-and-data-books-for-free-961f8181f189'\n",
    "savepath = '/home/lukas/Documents/textbooks'\n",
    "verbose = True\n",
    "\n",
    "download_all_books(url, savepath, verbose)"
   ]
  },
  {
   "cell_type": "markdown",
   "metadata": {},
   "source": [
    "## Voila, that's it"
   ]
  },
  {
   "cell_type": "code",
   "execution_count": null,
   "metadata": {},
   "outputs": [],
   "source": []
  }
 ],
 "metadata": {
  "kernelspec": {
   "display_name": "Python 3",
   "language": "python",
   "name": "python3"
  },
  "language_info": {
   "codemirror_mode": {
    "name": "ipython",
    "version": 3
   },
   "file_extension": ".py",
   "mimetype": "text/x-python",
   "name": "python",
   "nbconvert_exporter": "python",
   "pygments_lexer": "ipython3",
   "version": "3.8.3"
  }
 },
 "nbformat": 4,
 "nbformat_minor": 4
}

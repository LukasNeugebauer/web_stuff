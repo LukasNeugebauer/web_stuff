{
 "cells": [
  {
   "cell_type": "markdown",
   "metadata": {},
   "source": [
    "# Download Springer books\n",
    "\n",
    "Springer has made a lot of books free to download. Someone collected the books that are relevant to the wide field of Machine Learning in a Medium blogpost.\n",
    "I'm too lazy to download them manually but would like to save them just in case. So here's how you automatically collect all the links and download the books."
   ]
  },
  {
   "cell_type": "code",
   "execution_count": 22,
   "metadata": {},
   "outputs": [],
   "source": [
    "import requests\n",
    "from bs4 import BeautifulSoup\n",
    "import re"
   ]
  },
  {
   "cell_type": "markdown",
   "metadata": {},
   "source": [
    "## Collect all the springer links from the blog post."
   ]
  },
  {
   "cell_type": "code",
   "execution_count": 147,
   "metadata": {},
   "outputs": [],
   "source": [
    "def _collect_book_links(url):\n",
    "    raw = requests.get(url).text\n",
    "    bs  = BeautifulSoup(raw, 'html.parser')\n",
    "    tags = bs.findAll('a', attrs = {'href': re.compile('link.springer.com') })\n",
    "    return [x.get('href') for x in tags]"
   ]
  },
  {
   "cell_type": "markdown",
   "metadata": {},
   "source": [
    "## From each link to the springer website collect the name and the download link"
   ]
  },
  {
   "cell_type": "code",
   "execution_count": 144,
   "metadata": {},
   "outputs": [],
   "source": [
    "def _get_download_link(req, domain = 'https://link.springer.com'):\n",
    "    b = BeautifulSoup(req.text, 'html.parser')\n",
    "    tag = b.findAll('a', attrs = {'title': re.compile('Download')})[0]\n",
    "    return domain + tag.get('href')"
   ]
  },
  {
   "cell_type": "code",
   "execution_count": 139,
   "metadata": {},
   "outputs": [],
   "source": [
    "def _get_title(req):\n",
    "    b = BeautifulSoup(req.text, 'html.parser')\n",
    "    tags = b.findAll('h1')\n",
    "    return tags[0].text"
   ]
  },
  {
   "cell_type": "markdown",
   "metadata": {},
   "source": [
    "## Actually download the book using `requests` and save to pdf"
   ]
  },
  {
   "cell_type": "code",
   "execution_count": 160,
   "metadata": {},
   "outputs": [],
   "source": [
    "def _download_book(\n",
    "    link, \n",
    "    savepath, \n",
    "    verbose = True\n",
    "):\n",
    "    req = requests.get(link)\n",
    "    dl_link = _get_download_link(req)\n",
    "    title   = _get_title(req)\n",
    "    name = title.replace(' ', '_') + '.pdf'\n",
    "    if verbose:\n",
    "        print(f'Downloading {title}...')\n",
    "    dl = requests.get(dl_link)\n",
    "    with open(os.path.join(savepath, name), 'wb') as f:\n",
    "        f.write(dl.content)"
   ]
  },
  {
   "cell_type": "markdown",
   "metadata": {},
   "source": [
    "## Loop over the links and download each one"
   ]
  },
  {
   "cell_type": "code",
   "execution_count": 161,
   "metadata": {},
   "outputs": [],
   "source": [
    "def download_all_books(url, savepath, verbose):\n",
    "    links = _collect_book_links(url)\n",
    "    for l in links:\n",
    "        _download_book(l, savepath, verbose)\n",
    "    print('Finished downloading all books.')"
   ]
  },
  {
   "cell_type": "code",
   "execution_count": 162,
   "metadata": {},
   "outputs": [
    {
     "name": "stdout",
     "output_type": "stream",
     "text": [
      "Downloading The Elements of Statistical Learning...\n",
      "Downloading Introductory Time Series with R...\n",
      "Downloading A Beginner’s Guide to R...\n",
      "Downloading Introduction to Evolutionary Computing...\n",
      "Downloading Data Analysis...\n",
      "Downloading Linear and Nonlinear Programming...\n",
      "Downloading Introduction to Partial Differential Equations...\n",
      "Downloading Fundamentals of Robotic Mechanical Systems...\n",
      "Downloading Data Structures and Algorithms with Python...\n",
      "Downloading Introduction to Partial Differential Equations...\n",
      "Downloading Methods of Mathematical Modelling...\n",
      "Downloading LaTeX in 24 Hours...\n",
      "Downloading Introduction to Statistics and Data Analysis ...\n",
      "Downloading Principles of Data Mining...\n",
      "Downloading Computer Vision...\n",
      "Downloading Data Mining...\n",
      "Downloading Computational Geometry...\n",
      "Downloading Robotics, Vision and Control...\n",
      "Downloading Statistical Analysis and Data Display...\n",
      "Downloading Statistics and Data Analysis for Financial Engineering...\n",
      "Downloading Stochastic Processes and Calculus...\n",
      "Downloading Statistical Analysis of Clinical Data on a Pocket Calculator...\n",
      "Downloading Clinical Data Analysis on a Pocket Calculator...\n",
      "Downloading The Data Science Design Manual...\n",
      "Downloading An Introduction to Machine Learning...\n",
      "Downloading Guide to Discrete Mathematics...\n",
      "Downloading Introduction to Time Series and Forecasting...\n",
      "Downloading Multivariate Calculus and Geometry...\n",
      "Downloading Statistics and Analysis of Scientific Data...\n",
      "Downloading Modelling Computing Systems...\n",
      "Downloading Search Methodologies...\n",
      "Downloading Linear Algebra Done Right...\n",
      "Downloading Linear Algebra...\n",
      "Downloading Algebra...\n",
      "Downloading Understanding Analysis...\n",
      "Downloading Linear Programming...\n",
      "Downloading Understanding Statistics Using R...\n",
      "Downloading An Introduction to Statistical Learning...\n",
      "Downloading Statistical Learning from a Regression Perspective...\n",
      "Downloading Applied Partial Differential Equations...\n",
      "Downloading Robotics...\n",
      "Downloading Regression Modeling Strategies...\n",
      "Downloading A Modern Introduction to Probability and Statistics...\n",
      "Downloading The Python Workbook...\n",
      "Downloading Machine Learning in Medicine - a Complete Overview...\n",
      "Downloading Object-Oriented Analysis, Design and Implementation...\n",
      "Downloading Introduction to Data Science...\n",
      "Downloading Applied Predictive Modeling...\n",
      "Downloading Python For ArcGIS...\n",
      "Downloading Concise Guide to Databases...\n",
      "Downloading Digital Image Processing...\n",
      "Downloading Bayesian Essentials with R...\n",
      "Downloading Robotics, Vision and Control...\n",
      "Downloading Foundations of Programming Languages...\n",
      "Downloading Introduction to Artificial Intelligence...\n",
      "Downloading Introduction to Deep Learning...\n",
      "Downloading Linear Algebra and Analytic Geometry for Physical Sciences...\n",
      "Downloading Applied Linear Algebra...\n",
      "Downloading Neural Networks and Deep Learning...\n",
      "Downloading Data Science and Predictive Analytics...\n",
      "Downloading Analysis for Computer Scientists...\n",
      "Downloading Excel Data Analysis...\n",
      "Downloading A Beginners Guide to Python 3 Programming...\n",
      "Downloading Advanced Guide to Python 3 Programming...\n",
      "Finished downloading all books.\n"
     ]
    }
   ],
   "source": [
    "url = 'https://towardsdatascience.com/springer-has-released-65-machine-learning-and-data-books-for-free-961f8181f189'\n",
    "savepath = '/home/lukas/Documents/education/springer_books'\n",
    "verbose = True\n",
    "\n",
    "download_all_books(url, savepath, verbose)"
   ]
  },
  {
   "cell_type": "markdown",
   "metadata": {},
   "source": [
    "## Voila, that's it"
   ]
  }
 ],
 "metadata": {
  "kernelspec": {
   "display_name": "Python 3",
   "language": "python",
   "name": "python3"
  },
  "language_info": {
   "codemirror_mode": {
    "name": "ipython",
    "version": 3
   },
   "file_extension": ".py",
   "mimetype": "text/x-python",
   "name": "python",
   "nbconvert_exporter": "python",
   "pygments_lexer": "ipython3",
   "version": "3.7.6"
  }
 },
 "nbformat": 4,
 "nbformat_minor": 4
}
